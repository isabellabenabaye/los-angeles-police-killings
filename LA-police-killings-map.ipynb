{
 "cells": [
  {
   "cell_type": "markdown",
   "metadata": {},
   "source": [
    "# Prepare the data"
   ]
  },
  {
   "cell_type": "code",
   "execution_count": 9,
   "metadata": {},
   "outputs": [],
   "source": [
    "import numpy as np\n",
    "import pandas as pd"
   ]
  },
  {
   "cell_type": "code",
   "execution_count": 10,
   "metadata": {},
   "outputs": [],
   "source": [
    "killings_data = pd.read_csv('https://raw.githubusercontent.com/datadesk/los-angeles-police-killings-data/master/los-angeles-police-killings.csv')"
   ]
  },
  {
   "cell_type": "markdown",
   "metadata": {},
   "source": [
    "Clean up variables"
   ]
  },
  {
   "cell_type": "code",
   "execution_count": 11,
   "metadata": {},
   "outputs": [],
   "source": [
    "killings_data['death_date'] = pd.to_datetime(killings_data.death_date)\n",
    "killings_data['year'] = killings_data['death_date'].apply(lambda x: x.year)\n",
    "killings_data['full_name'] = killings_data.first_name + ' ' + killings_data.last_name"
   ]
  },
  {
   "cell_type": "markdown",
   "metadata": {},
   "source": [
    " Create table with just killings of black people "
   ]
  },
  {
   "cell_type": "code",
   "execution_count": 12,
   "metadata": {},
   "outputs": [],
   "source": [
    "black_killings = killings_data[killings_data.race == 'black']"
   ]
  },
  {
   "cell_type": "code",
   "execution_count": 33,
   "metadata": {},
   "outputs": [
    {
     "output_type": "display_data",
     "data": {
      "application/vnd.plotly.v1+json": {
       "config": {
        "plotlyServerURL": "https://plotly.com"
       },
       "data": [
        {
         "customdata": [
          [
           2020,
           null,
           "gunshot"
          ],
          [
           2019,
           "Hollywood",
           "gunshot"
          ],
          [
           2019,
           "Long Beach",
           "gunshot"
          ],
          [
           2019,
           "Sherman Oaks",
           "gunshot"
          ],
          [
           2019,
           "El Monte",
           "gunshot"
          ],
          [
           2019,
           "Long Beach",
           "gunshot"
          ],
          [
           2019,
           "Glendora",
           "gunshot"
          ],
          [
           2019,
           "Hyde Park",
           "gunshot"
          ],
          [
           2019,
           "Compton",
           "gunshot"
          ],
          [
           2019,
           "Willowbrook",
           "gunshot"
          ],
          [
           2019,
           "Pasadena",
           "gunshot"
          ],
          [
           2019,
           "Gardena",
           "gunshot"
          ],
          [
           2019,
           "Inglewood",
           "gunshot"
          ],
          [
           2018,
           "Torrance",
           "gunshot"
          ],
          [
           2018,
           "Hollywood",
           "gunshot"
          ],
          [
           2018,
           "Pomona",
           "gunshot"
          ],
          [
           2018,
           "Gardena",
           "gunshot"
          ],
          [
           2018,
           "Baldwin Hills/Crenshaw",
           "gunshot"
          ],
          [
           2018,
           "Westmont",
           "gunshot"
          ],
          [
           2018,
           "Palmdale",
           "gunshot"
          ],
          [
           2017,
           "Watts",
           "gunshot"
          ],
          [
           2017,
           "Florence-Firestone",
           "gunshot"
          ],
          [
           2017,
           "Ladera Heights",
           "gunshot"
          ],
          [
           2017,
           "Gardena",
           "gunshot"
          ],
          [
           2017,
           "Hollywood",
           "gunshot"
          ],
          [
           2017,
           "Pomona",
           "gunshot"
          ],
          [
           2016,
           "Harvard Park",
           "gunshot"
          ],
          [
           2016,
           "Torrance",
           "gunshot"
          ],
          [
           2016,
           "Palmdale",
           "gunshot"
          ],
          [
           2016,
           "Westmont",
           "gunshot"
          ],
          [
           2016,
           "Compton",
           "gunshot"
          ],
          [
           2016,
           "Vermont Vista",
           "gunshot"
          ],
          [
           2016,
           "Compton",
           "gunshot"
          ],
          [
           2016,
           "Watts",
           "gunshot"
          ],
          [
           2016,
           "Hyde Park",
           "gunshot"
          ],
          [
           2016,
           "Long Beach",
           "gunshot"
          ],
          [
           2016,
           "Inglewood",
           "gunshot"
          ],
          [
           2016,
           "Inglewood",
           "gunshot"
          ],
          [
           2015,
           "Palmdale",
           "gunshot"
          ],
          [
           2015,
           "Lynwood",
           "gunshot"
          ],
          [
           2015,
           "Vermont Vista",
           "gunshot"
          ],
          [
           2015,
           "Baldwin Hills/Crenshaw",
           "gunshot"
          ],
          [
           2015,
           "Long Beach",
           "gunshot"
          ],
          [
           2015,
           "Sylmar",
           "gunshot"
          ],
          [
           2015,
           "Venice",
           "gunshot"
          ],
          [
           2015,
           "Hawthorne",
           "gunshot"
          ],
          [
           2015,
           "Downtown",
           "gunshot"
          ],
          [
           2014,
           "Downtown",
           "gunshot"
          ],
          [
           2014,
           "Vermont Knolls",
           "gunshot"
          ],
          [
           2014,
           "Lynwood",
           "gunshot"
          ],
          [
           2014,
           "Bellflower",
           "gunshot"
          ],
          [
           2014,
           "Historic South-Central",
           "gunshot"
          ],
          [
           2014,
           "Florence",
           "gunshot"
          ],
          [
           2014,
           "Inglewood",
           "gunshot"
          ],
          [
           2014,
           "View Park-Windsor Hills",
           "gunshot"
          ],
          [
           2014,
           "Compton",
           "gunshot"
          ],
          [
           2014,
           "Universal City",
           "gunshot"
          ],
          [
           2014,
           "Mid-City",
           "gunshot"
          ],
          [
           2014,
           "Broadway-Manchester",
           "gunshot"
          ],
          [
           2014,
           "Vermont-Slauson",
           "gunshot"
          ],
          [
           2013,
           "Long Beach",
           "gunshot"
          ],
          [
           2013,
           "Long Beach",
           "gunshot"
          ],
          [
           2013,
           "Inglewood",
           "gunshot"
          ],
          [
           2013,
           "Bellflower",
           "gunshot"
          ],
          [
           2013,
           "Mid-City",
           "gunshot"
          ],
          [
           2013,
           "Vermont Square",
           "gunshot"
          ],
          [
           2013,
           "Compton",
           "gunshot"
          ],
          [
           2013,
           "Compton",
           "gunshot"
          ],
          [
           2013,
           "Florence-Firestone",
           "gunshot"
          ],
          [
           2013,
           "Inglewood",
           "gunshot"
          ],
          [
           2013,
           "Pacoima",
           "gunshot"
          ],
          [
           2013,
           "Downtown",
           "gunshot"
          ],
          [
           2013,
           "Athens",
           "gunshot"
          ],
          [
           2013,
           "Long Beach",
           "gunshot"
          ],
          [
           2012,
           "Baldwin Hills/Crenshaw",
           "gunshot"
          ],
          [
           2012,
           "Bellflower",
           "gunshot"
          ],
          [
           2012,
           "Long Beach",
           "gunshot"
          ],
          [
           2012,
           null,
           "other"
          ],
          [
           2012,
           "Pasadena",
           "gunshot"
          ],
          [
           2011,
           "Green Meadows",
           "gunshot"
          ],
          [
           2011,
           "Palmdale",
           "gunshot"
          ],
          [
           2011,
           "Vermont Square",
           "gunshot"
          ],
          [
           2011,
           "Wilmington",
           "gunshot"
          ],
          [
           2011,
           "Downtown",
           "gunshot"
          ],
          [
           2011,
           "Watts",
           "gunshot"
          ],
          [
           2011,
           "Santa Monica",
           "gunshot"
          ],
          [
           2011,
           "Harbor Gateway",
           "gunshot"
          ],
          [
           2011,
           "Vermont Knolls",
           "gunshot"
          ],
          [
           2011,
           "Palmdale",
           "gunshot"
          ],
          [
           2011,
           "Altadena",
           "gunshot"
          ],
          [
           2011,
           "Green Meadows",
           "gunshot"
          ],
          [
           2011,
           "Playa Vista",
           "gunshot"
          ],
          [
           2011,
           "Florence",
           "gunshot"
          ],
          [
           2011,
           "Green Meadows",
           "gunshot"
          ],
          [
           2010,
           "Watts",
           "gunshot"
          ],
          [
           2010,
           "Westlake",
           "gunshot"
          ],
          [
           2010,
           "Willowbrook",
           "gunshot"
          ],
          [
           2010,
           "Watts",
           "gunshot"
          ],
          [
           2010,
           "San Pedro",
           "gunshot"
          ],
          [
           2010,
           "Bellflower",
           "gunshot"
          ],
          [
           2010,
           "Canoga Park",
           "gunshot"
          ],
          [
           2010,
           "Palms",
           "gunshot"
          ],
          [
           2010,
           "Koreatown",
           "gunshot"
          ],
          [
           2009,
           "Lynwood",
           "gunshot"
          ],
          [
           2009,
           "Athens",
           "gunshot"
          ],
          [
           2009,
           "Green Meadows",
           "gunshot"
          ],
          [
           2009,
           "Carson",
           "gunshot"
          ],
          [
           2009,
           "Vermont-Slauson",
           "gunshot"
          ],
          [
           2009,
           "South Park",
           "gunshot"
          ],
          [
           2009,
           "Westmont",
           "gunshot"
          ],
          [
           2009,
           "Compton",
           "gunshot"
          ],
          [
           2009,
           "Long Beach",
           "gunshot"
          ],
          [
           2009,
           "Inglewood",
           "gunshot"
          ],
          [
           2009,
           "Long Beach",
           "gunshot"
          ],
          [
           2009,
           "Downtown",
           "gunshot"
          ],
          [
           2009,
           "Pasadena",
           "gunshot"
          ],
          [
           2008,
           "Koreatown",
           "gunshot"
          ],
          [
           2008,
           "Rosemead",
           "gunshot"
          ],
          [
           2008,
           "Downtown",
           "gunshot"
          ],
          [
           2008,
           "Inglewood",
           "gunshot"
          ],
          [
           2008,
           "Inglewood",
           "gunshot"
          ],
          [
           2008,
           "West Compton",
           "gunshot"
          ],
          [
           2008,
           "Inglewood",
           "gunshot"
          ],
          [
           2008,
           "El Segundo",
           "gunshot"
          ],
          [
           2008,
           "North Hollywood",
           "gunshot"
          ],
          [
           2008,
           "Hyde Park",
           "gunshot"
          ],
          [
           2008,
           "Hyde Park",
           "gunshot"
          ],
          [
           2008,
           "Sawtelle",
           "gunshot"
          ],
          [
           2007,
           "Inglewood",
           "gunshot"
          ],
          [
           2007,
           "Hawthorne",
           "gunshot"
          ],
          [
           2007,
           "Hawthorne",
           "gunshot"
          ],
          [
           2007,
           "Boyle Heights",
           "gunshot"
          ],
          [
           2007,
           "Gardena",
           "gunshot"
          ],
          [
           2007,
           "Torrance",
           "gunshot"
          ],
          [
           2007,
           "Torrance",
           "gunshot"
          ],
          [
           2007,
           "Vermont Square",
           "gunshot"
          ],
          [
           2007,
           "Broadway-Manchester",
           "gunshot"
          ],
          [
           2007,
           "Broadway-Manchester",
           "gunshot"
          ],
          [
           2007,
           "Historic South-Central",
           "gunshot"
          ],
          [
           2007,
           "Inglewood",
           "gunshot"
          ],
          [
           2007,
           "Exposition Park",
           "gunshot"
          ],
          [
           2007,
           "Historic South-Central",
           "gunshot"
          ],
          [
           2007,
           "Westlake",
           "gunshot"
          ],
          [
           2007,
           "Green Meadows",
           "gunshot"
          ],
          [
           2006,
           "Green Meadows",
           "gunshot"
          ],
          [
           2006,
           "Compton",
           "gunshot"
          ],
          [
           2006,
           "Santa Monica",
           "gunshot"
          ],
          [
           2006,
           "Florence",
           "gunshot"
          ],
          [
           2006,
           "Compton",
           "gunshot"
          ],
          [
           2006,
           "Athens",
           "gunshot"
          ],
          [
           2006,
           "Florence-Firestone",
           "gunshot"
          ],
          [
           2006,
           "University Park",
           "gunshot"
          ],
          [
           2006,
           "Exposition Park",
           "gunshot"
          ],
          [
           2006,
           "Vermont Square",
           "gunshot"
          ],
          [
           2006,
           "West Compton",
           "gunshot"
          ],
          [
           2006,
           "Venice",
           "gunshot"
          ],
          [
           2006,
           "Hollywood",
           "gunshot"
          ],
          [
           2005,
           "Westlake",
           "gunshot"
          ],
          [
           2005,
           "Lancaster",
           "gunshot"
          ],
          [
           2005,
           "Beverly Hills",
           "gunshot"
          ],
          [
           2005,
           "Hawthorne",
           "gunshot"
          ],
          [
           2005,
           "Inglewood",
           "gunshot"
          ],
          [
           2005,
           "Inglewood",
           "gunshot"
          ],
          [
           2005,
           "Exposition Park",
           "gunshot"
          ],
          [
           2005,
           "Green Meadows",
           "gunshot"
          ],
          [
           2005,
           "Manchester Square",
           "gunshot"
          ],
          [
           2005,
           "Broadway-Manchester",
           "gunshot"
          ],
          [
           2005,
           "Athens",
           "gunshot"
          ],
          [
           2005,
           "Bellflower",
           "gunshot"
          ],
          [
           2005,
           "Broadway-Manchester",
           "gunshot"
          ],
          [
           2004,
           "Vermont Square",
           "gunshot"
          ],
          [
           2004,
           "Long Beach",
           "gunshot"
          ],
          [
           2004,
           "Inglewood",
           "gunshot"
          ],
          [
           2004,
           "Westmont",
           "gunshot"
          ],
          [
           2004,
           "Pasadena",
           "gunshot"
          ],
          [
           2004,
           "Compton",
           "gunshot"
          ],
          [
           2004,
           "Vermont-Slauson",
           "gunshot"
          ],
          [
           2004,
           "Gramercy Park",
           "gunshot"
          ],
          [
           2004,
           "Long Beach",
           "gunshot"
          ],
          [
           2003,
           "Culver City",
           "gunshot"
          ],
          [
           2003,
           "Harbor City",
           "gunshot"
          ],
          [
           2003,
           "North Hills",
           "gunshot"
          ],
          [
           2003,
           "North Hills",
           "gunshot"
          ],
          [
           2003,
           "Willowbrook",
           "gunshot"
          ],
          [
           2003,
           "Compton",
           "gunshot"
          ],
          [
           2003,
           "Central-Alameda",
           "gunshot"
          ],
          [
           2003,
           "Long Beach",
           "gunshot"
          ],
          [
           2003,
           "Downtown",
           "gunshot"
          ],
          [
           2003,
           "Compton",
           "gunshot"
          ],
          [
           2003,
           "Compton",
           "gunshot"
          ],
          [
           2003,
           "Compton",
           "gunshot"
          ],
          [
           2002,
           "Inglewood",
           "gunshot"
          ],
          [
           2002,
           "Sun Village",
           "gunshot"
          ],
          [
           2002,
           "Florence",
           "gunshot"
          ],
          [
           2002,
           "Carson",
           "gunshot"
          ],
          [
           2002,
           "Historic South-Central",
           "gunshot"
          ],
          [
           2002,
           "Chesterfield Square",
           "gunshot"
          ],
          [
           2002,
           "Vermont Vista",
           "gunshot"
          ],
          [
           2002,
           "Long Beach",
           "gunshot"
          ],
          [
           2001,
           "Compton",
           "gunshot"
          ],
          [
           2001,
           "Inglewood",
           "gunshot"
          ],
          [
           2001,
           "Lake Los Angeles",
           "other"
          ],
          [
           2001,
           "Woodland Hills",
           "gunshot"
          ],
          [
           2001,
           "Lawndale",
           "gunshot"
          ],
          [
           2001,
           "Hollywood",
           "gunshot"
          ],
          [
           2001,
           "Gardena",
           "gunshot"
          ],
          [
           2001,
           "Gramercy Park",
           "gunshot"
          ],
          [
           2000,
           "Beverly Crest",
           "gunshot"
          ],
          [
           2000,
           "Florence",
           "gunshot"
          ],
          [
           2000,
           "Inglewood",
           "gunshot"
          ],
          [
           2000,
           "Jefferson Park",
           "gunshot"
          ],
          [
           2000,
           "Gardena",
           "gunshot"
          ],
          [
           2000,
           "Culver City",
           "gunshot"
          ],
          [
           2000,
           "Culver City",
           "gunshot"
          ],
          [
           2000,
           "Carson",
           "gunshot"
          ],
          [
           2000,
           "Lynwood",
           "gunshot"
          ],
          [
           2000,
           "Vermont Square",
           "gunshot"
          ],
          [
           2000,
           "Long Beach",
           "gunshot"
          ],
          [
           2000,
           "View Park-Windsor Hills",
           "gunshot"
          ]
         ],
         "hovertemplate": "<b>%{hovertext}</b><br><br>year=%{customdata[0]}<br>neighborhood=%{customdata[1]}<br>cause=%{customdata[2]}<br>y=%{lat}<br>x=%{lon}<extra></extra>",
         "hovertext": [
          "Kerry Bounsom",
          "Nathaniel Pinnock",
          "Delfon Kinney",
          "Lasseri Frazier",
          "Sawandi Toussaint",
          "Jordan Griffin",
          "Vondarrow Fisher",
          "Jamaal Simpson",
          "Rickie Starks",
          "Ryan Twyman",
          "Daniel Warren",
          "Malik Gresham",
          "Brian Statler",
          "Christopher Mitchell",
          "Albert Dorsey",
          "Rodney Hunter",
          "Kenneth Ross",
          "Grechario Mack",
          "Anthony Weber",
          "Shalun Smith",
          "Kenneth Lewis",
          "Zelalem Ewnetu",
          "Dennis Rogers",
          "Jimmy Bigges",
          "Solomon Picart",
          "Ruben Randolph",
          "Ryan Joseph",
          "Michelle Shirley",
          "Romarion White",
          "Carnell Snell",
          "Donta Taylor",
          "Kenney Watkins",
          "Donnell Thompson",
          "Richard Risher",
          "Keith Bursey",
          "Lionel Gibson",
          "Marquintan Sandlin",
          "Kisha Michael",
          "Leroy Browning",
          "Nicholas Robertson",
          "Dion Ramirez",
          "Redel Jones",
          "Derrick  Hunt",
          "Jason  Hendley",
          "Brendon Glenn",
          "Robert Washington",
          "Charly Keunang",
          "Isaac Ricks",
          "Alphonse Perkins",
          "Kerry Wesson",
          "Luther  Walker",
          "Andre Jones",
          "Ezell Ford",
          "Paul Kemp",
          "Samuel Johnson",
          "Antoine Hunter",
          "James White",
          "Daniel Yealu",
          "Kenny Walker",
          "Paul Smith",
          "Tyler Woods",
          "Donte Jordan",
          "Quentin Hicks",
          "William Harvey",
          "Darrell Atkinson",
          "Patrick Sullivan",
          "Deangelo  Lopez",
          "Rayshawn Brown",
          "Terry  Laffitte",
          "Charles Curl",
          "Christian Eaddy",
          "Kenneth Williams",
          "Brice Jefferson",
          "Christopher Taylor",
          "Edward Clark",
          "Tony Francis",
          "Jonte House",
          "Vachel Howard",
          "Kendrec McDade",
          "Lee Jefferson",
          "Darrell Logan",
          "Keith Watkins",
          "Maurice Shephard",
          "Dale Garrett",
          "Brenda Williams",
          "Frank Johnson",
          "Justin Ford",
          "Roger Williams",
          "Christopher Glass",
          "Stephen Bullock",
          "Earl Rhodes",
          "Reginald Doucet",
          "Derrick Abernathy",
          "D'nary Fowler",
          "Kevin Wooten",
          "Shannon Hayes",
          "Robert Thomas",
          "James Davis",
          "Reginald Linthicum",
          "Dexter Luckett",
          "Donovan Morris",
          "Lejoy Grissom",
          "Steven Washington",
          "Travion Richard",
          "Darrick Collins",
          "Robert Brown",
          "Wilson Victorian",
          "Oran Douglas",
          "Jessie Long",
          "Woodrow Player",
          "Avery Cody",
          "Wilford Hunton",
          "Marcus Smith",
          "James Tuggle",
          "Sammie Richardson",
          "Leroy Barnes",
          "Dontaze Storey",
          "Joshua Stephenson",
          "Jesse Moore",
          "Kevin Wicks",
          "Ruben Ortega",
          "Bryan Moore",
          "Michael Byoune",
          "Jonathan Taylor",
          "Lawrence Smith",
          "Maurice Leroy Cox",
          "Ronald Boone",
          "Glen Boldware",
          "Jovon Talley-Ford",
          "Elaine Coleman",
          "Rickey Harvey",
          "Brent McKinney",
          "Deshawn Adams",
          "Shaun McCoy",
          "Charlie Wilson",
          "Aaron Borden",
          "Detrick Ford ",
          "Jamar Witherspoon",
          "Ronald Ball",
          "Richard Tyson",
          "Antonio Bland",
          "Marcellus Wright",
          "Mathew Powell",
          "Philip Miller",
          "Jerome Stephens Jr.",
          "Craig Hill",
          "Christopher Hunter",
          "Robert Henderson",
          "Lawrence Ronnell Taylor",
          "Melvin Hilliard",
          "Carl Williams",
          "Steven Trotter",
          "James McNeal",
          "Henry Washington",
          "Freddy Davis",
          "Jeffery Smith",
          "Michael Hunter",
          "Jon Givens",
          "Linord Griffin",
          "Marcus Bertonetesei",
          "Ryan Burton",
          "Jule Dexter",
          "Jeremy Candler",
          "Brayland Randolph",
          "Spencer Johnson",
          "Devin Brown",
          "Cameron Williams",
          "Kazi Bell",
          "Maynard King",
          "Tesha Collins",
          "Arthur Reed",
          "Keyante Reed",
          "Lavelle Rigmaiden",
          "Dwight Slater",
          "Maurice Clark",
          "Cephas Hendricks",
          "Percy Kelly",
          "Eric Wilson",
          "Theo Williams",
          "Adebusola Tairu",
          "Maximillion McDaniel",
          "Byron Smith",
          "David Thomas",
          "Deondre Brunston",
          "Brice Everett Ross",
          "Derrick Jenkins",
          "Rodney Tolbert",
          "Audwyn Ball",
          "Anthony Barnett",
          "Dewayne Davenport",
          "J C (Joseph) Jones",
          "Joshua Hawkins",
          "Robert Mitchell",
          "Kenny Fuller",
          "Joseph Queen",
          "Cecil Menifield",
          "Jason Mitchell",
          "Kendraey McCall",
          "Marcella Byrd",
          "Lorenzo Hardis Howard",
          "Antonio Thomas",
          "Michael Burkley",
          "Steve Butcher",
          "Alex Carter",
          "Jahi Waytes",
          "Joseph Evans",
          "Robert Jones",
          "Anthony Lee",
          "Kenyon Penny",
          "Anton Burrell",
          "Arthur Shamburger",
          "Terrell Towns",
          "Jason Rowden",
          "Lloyd Brewer",
          "John Marshall",
          "James Jenkins",
          "Everett Evans",
          "Billy Johnson",
          "Randall Ramsey"
         ],
         "lat": [
          null,
          34.0976563958,
          33.8749179958,
          34.1719616387,
          34.0720340958,
          33.7837710958,
          34.1285412958,
          33.9756460958,
          33.9026357958,
          33.9129347683,
          34.1716760958,
          33.9016590958,
          33.9600780958,
          33.8299440958,
          34.0977432958,
          34.049492683000004,
          33.912646995799996,
          34.0086099958,
          33.9388237958,
          34.5653954958,
          33.9295445132,
          33.954473595799996,
          33.987149995799996,
          33.9032927958,
          34.0983237958,
          34.0686786958,
          33.9857449958,
          33.8193238958,
          34.5510129958,
          33.939091195799996,
          33.899202995799996,
          33.9452321958,
          33.9090263958,
          33.9348087958,
          33.9889949958,
          33.7954599958,
          33.9617073958,
          33.9617073958,
          34.5713855958,
          33.9171235958,
          33.9347481958,
          34.0103945958,
          33.8746425958,
          34.3188524958,
          33.9874154958,
          33.9019055958,
          34.0433269958,
          34.0401103958,
          33.9648799958,
          33.9158509958,
          33.8747305958,
          34.0168006958,
          33.9804279958,
          33.9322099958,
          34.0071385958,
          33.8983491958,
          34.1380665958,
          34.046428095799996,
          33.9486119958,
          33.9834999958,
          33.7726308967,
          33.7825921967,
          33.9448945967,
          33.8849539967,
          34.0362130059,
          34.0090479967,
          33.899276496700004,
          33.8982879967,
          33.977457996700004,
          33.963067896700004,
          34.2855008967,
          34.0454369967,
          33.9305607967,
          33.822752996700004,
          34.012064896700004,
          33.8897049958,
          33.8378259967,
          null,
          34.1584869967,
          33.9407499967,
          34.5670629967,
          33.9941116967,
          33.7738699967,
          34.0473751967,
          33.9450215967,
          34.0161949967,
          33.9163328967,
          33.9745770967,
          34.5892061967,
          34.1783734967,
          33.939506996700004,
          33.9721799967,
          33.9662499967,
          33.9579429967,
          33.9463577967,
          34.0698609967,
          33.9211218967,
          33.9314710967,
          33.7395559967,
          33.8876639967,
          34.1886899967,
          34.0203621967,
          34.0564540967,
          33.919286,
          33.925219,
          33.937661,
          33.839528,
          33.978431,
          33.999286,
          33.931188,
          33.888703,
          33.804184,
          33.9531928,
          33.781995,
          34.04585,
          34.1694687,
          34.069044,
          34.066456,
          34.038064,
          33.963045,
          33.934748,
          33.896183,
          33.960577,
          33.903782,
          34.164121,
          33.988981,
          33.988989000000004,
          34.043326,
          33.969949,
          33.900696,
          33.911722999999995,
          34.0346542528,
          33.88838,
          33.81643,
          33.81643,
          34.010559,
          33.924044,
          33.9555,
          34.0206,
          33.971473,
          34.0185,
          34.0164,
          34.059891,
          33.948075,
          33.938047999999995,
          33.9019926967,
          34.032183399999994,
          33.9618521,
          33.903398896700004,
          33.9220916,
          33.949464899999995,
          34.0260761,
          34.012653,
          34.0005405958,
          33.8986121967,
          33.9917277,
          34.0984289958,
          34.0541016,
          34.7023061,
          34.0673869,
          33.9156539,
          33.931282,
          33.942895,
          34.017584,
          33.9327917958,
          33.963406899999995,
          33.9339028,
          33.9183121,
          33.8698299,
          33.956453700000004,
          34.001268,
          33.767459395799996,
          33.943635,
          33.94407879999999,
          34.1733277,
          33.8962209967,
          33.983001,
          33.94678629999999,
          33.7898488958,
          34.006656,
          33.792026,
          34.2222349958,
          34.2222349958,
          33.918861,
          33.8951026967,
          33.9929702,
          33.8785109958,
          34.0485132,
          33.8955313967,
          33.8955313967,
          33.9163285967,
          33.9714858958,
          34.5393245958,
          33.9873566958,
          33.858203638,
          34.0111623168,
          33.9798060958,
          33.953913,
          33.7719483958,
          33.8992021967,
          33.959307700000004,
          34.603273,
          34.18124,
          33.888715999999995,
          34.093687995799996,
          33.911109,
          33.94357279999999,
          34.113031,
          33.972762200000005,
          33.9548429,
          34.0310568958,
          33.902981700000005,
          33.9885606,
          33.987125646399996,
          33.854858,
          33.918588,
          34.001644,
          33.7895389958,
          34.0012172958
         ],
         "legendgroup": "",
         "lon": [
          null,
          -118.336858084,
          -118.171122184,
          -118.457556681,
          -118.042137384,
          -118.134096884,
          -117.873037484,
          -118.333817484,
          -118.232261184,
          -118.26983545899999,
          -118.15544608399999,
          -118.307069684,
          -118.35235848399999,
          -118.311034784,
          -118.326978484,
          -117.82424013,
          -118.317794984,
          -118.335647584,
          -118.29623698399999,
          -118.042856084,
          -118.253155405,
          -118.246727284,
          -118.364937984,
          -118.29689758399999,
          -118.32901128399999,
          -117.736655384,
          -118.30861298399999,
          -118.315917684,
          -118.071951984,
          -118.306944484,
          -118.239946084,
          -118.280776284,
          -118.239204784,
          -118.248516184,
          -118.332988284,
          -118.19023298399999,
          -118.361720284,
          -118.361720284,
          -118.044923884,
          -118.209660484,
          -118.28119408399999,
          -118.339833884,
          -118.15562078399999,
          -118.401496784,
          -118.472303884,
          -118.33733168399999,
          -118.245110984,
          -118.25040228399999,
          -118.294246984,
          -118.216780984,
          -118.144669184,
          -118.278276784,
          -118.276222984,
          -118.340948984,
          -118.337338584,
          -118.209520884,
          -118.353225884,
          -118.342668984,
          -118.26980998399999,
          -118.293518984,
          -118.17394298399999,
          -118.196341384,
          -118.343406684,
          -118.118016984,
          -118.376076205,
          -118.300510984,
          -118.243488784,
          -118.205492984,
          -118.245656984,
          -118.354827784,
          -118.420286984,
          -118.24658218399999,
          -118.291954484,
          -118.106909984,
          -118.354997184,
          -118.132076984,
          -118.176681984,
          null,
          -118.15205898399999,
          -118.260013984,
          -118.074028984,
          -118.293834384,
          -118.262952984,
          -118.249567384,
          -118.237854984,
          -118.45982098399999,
          -118.287210084,
          -118.298068984,
          -118.12254518399999,
          -118.131134484,
          -118.256945984,
          -118.428730984,
          -118.258401984,
          -118.261313984,
          -118.236721984,
          -118.265828984,
          -118.243931984,
          -118.235630984,
          -118.307451984,
          -118.122865984,
          -118.60060698299999,
          -118.40385068399999,
          -118.29160828399999,
          -118.216114,
          -118.297124,
          -118.265555,
          -118.274687,
          -118.289972,
          -118.25865,
          -118.293952,
          -118.208853,
          -118.207654,
          -118.3453883,
          -118.195427,
          -118.24298600000002,
          -118.1572484,
          -118.292924,
          -118.080909,
          -118.240078,
          -118.348693,
          -118.3263,
          -118.258247,
          -118.325608,
          -118.388561,
          -118.37027,
          -118.330686,
          -118.330952,
          -118.445694,
          -118.35433799999998,
          -118.330781,
          -118.339451,
          -118.21929902299999,
          -118.309954,
          -118.330909,
          -118.330909,
          -118.307648,
          -118.27342,
          -118.2739,
          -118.2729,
          -118.365811,
          -118.3138,
          -118.2741,
          -118.281993,
          -118.265034,
          -118.263352,
          -118.232217284,
          -118.4822867,
          -118.2577542,
          -118.251111184,
          -118.2919791,
          -118.253431,
          -118.2775301,
          -118.305345,
          -118.291534684,
          -118.252571484,
          -118.4680304,
          -118.317446984,
          -118.2785073,
          -118.1360002,
          -118.393849,
          -118.33704240000002,
          -118.327262,
          -118.328548,
          -118.31636,
          -118.255540484,
          -118.308618,
          -118.2752807,
          -118.29183559999998,
          -118.1422325,
          -118.2738571,
          -118.300969,
          -118.174095884,
          -118.3439091,
          -118.2961882,
          -118.1577187,
          -118.224616984,
          -118.285369,
          -118.3089483,
          -118.179222384,
          -118.389626,
          -118.300742,
          -118.481593984,
          -118.481593984,
          -118.2695725,
          -118.229152184,
          -118.2411385,
          -118.175055984,
          -118.2447166,
          -118.202628784,
          -118.202628784,
          -118.25044918399999,
          -118.355559484,
          -117.965939384,
          -118.271764384,
          -118.266004564,
          -118.280734778,
          -118.308959184,
          -118.28414,
          -118.192561184,
          -118.239961584,
          -118.3536041,
          -117.819213,
          -118.6049216,
          -118.355507,
          -118.33283298399999,
          -118.32068999999998,
          -118.3087597,
          -118.430519,
          -118.273924,
          -118.346499,
          -118.322395284,
          -118.3206547,
          -118.395494,
          -118.39557080200001,
          -118.241742,
          -118.202394,
          -118.302008,
          -118.197276984,
          -118.33323898399999
         ],
         "marker": {
          "color": "#636efa",
          "opacity": 0.5
         },
         "mode": "markers",
         "name": "",
         "showlegend": false,
         "subplot": "mapbox",
         "type": "scattermapbox"
        }
       ],
       "layout": {
        "hoverlabel": {
         "bgcolor": "white",
         "font": {
          "family": "Inter",
          "size": 16
         }
        },
        "legend": {
         "tracegroupgap": 0
        },
        "mapbox": {
         "accesstoken": "pk.eyJ1IjoiaXNhYmVsbGFiZW5hYmF5ZSIsImEiOiJja2JjMDUwb2cwNms5MnRxb3FtZG42b2p2In0.KaL5WlP25HyoOk8E6PPk7w",
         "center": {
          "lat": 33.98840613545991,
          "lon": -118.27161637739175
         },
         "domain": {
          "x": [
           0,
           1
          ],
          "y": [
           0,
           1
          ]
         },
         "zoom": 8.5
        },
        "margin": {
         "b": 0,
         "l": 0,
         "r": 0,
         "t": 0
        },
        "template": {
         "data": {
          "bar": [
           {
            "error_x": {
             "color": "#2a3f5f"
            },
            "error_y": {
             "color": "#2a3f5f"
            },
            "marker": {
             "line": {
              "color": "#E5ECF6",
              "width": 0.5
             }
            },
            "type": "bar"
           }
          ],
          "barpolar": [
           {
            "marker": {
             "line": {
              "color": "#E5ECF6",
              "width": 0.5
             }
            },
            "type": "barpolar"
           }
          ],
          "carpet": [
           {
            "aaxis": {
             "endlinecolor": "#2a3f5f",
             "gridcolor": "white",
             "linecolor": "white",
             "minorgridcolor": "white",
             "startlinecolor": "#2a3f5f"
            },
            "baxis": {
             "endlinecolor": "#2a3f5f",
             "gridcolor": "white",
             "linecolor": "white",
             "minorgridcolor": "white",
             "startlinecolor": "#2a3f5f"
            },
            "type": "carpet"
           }
          ],
          "choropleth": [
           {
            "colorbar": {
             "outlinewidth": 0,
             "ticks": ""
            },
            "type": "choropleth"
           }
          ],
          "contour": [
           {
            "colorbar": {
             "outlinewidth": 0,
             "ticks": ""
            },
            "colorscale": [
             [
              0,
              "#0d0887"
             ],
             [
              0.1111111111111111,
              "#46039f"
             ],
             [
              0.2222222222222222,
              "#7201a8"
             ],
             [
              0.3333333333333333,
              "#9c179e"
             ],
             [
              0.4444444444444444,
              "#bd3786"
             ],
             [
              0.5555555555555556,
              "#d8576b"
             ],
             [
              0.6666666666666666,
              "#ed7953"
             ],
             [
              0.7777777777777778,
              "#fb9f3a"
             ],
             [
              0.8888888888888888,
              "#fdca26"
             ],
             [
              1,
              "#f0f921"
             ]
            ],
            "type": "contour"
           }
          ],
          "contourcarpet": [
           {
            "colorbar": {
             "outlinewidth": 0,
             "ticks": ""
            },
            "type": "contourcarpet"
           }
          ],
          "heatmap": [
           {
            "colorbar": {
             "outlinewidth": 0,
             "ticks": ""
            },
            "colorscale": [
             [
              0,
              "#0d0887"
             ],
             [
              0.1111111111111111,
              "#46039f"
             ],
             [
              0.2222222222222222,
              "#7201a8"
             ],
             [
              0.3333333333333333,
              "#9c179e"
             ],
             [
              0.4444444444444444,
              "#bd3786"
             ],
             [
              0.5555555555555556,
              "#d8576b"
             ],
             [
              0.6666666666666666,
              "#ed7953"
             ],
             [
              0.7777777777777778,
              "#fb9f3a"
             ],
             [
              0.8888888888888888,
              "#fdca26"
             ],
             [
              1,
              "#f0f921"
             ]
            ],
            "type": "heatmap"
           }
          ],
          "heatmapgl": [
           {
            "colorbar": {
             "outlinewidth": 0,
             "ticks": ""
            },
            "colorscale": [
             [
              0,
              "#0d0887"
             ],
             [
              0.1111111111111111,
              "#46039f"
             ],
             [
              0.2222222222222222,
              "#7201a8"
             ],
             [
              0.3333333333333333,
              "#9c179e"
             ],
             [
              0.4444444444444444,
              "#bd3786"
             ],
             [
              0.5555555555555556,
              "#d8576b"
             ],
             [
              0.6666666666666666,
              "#ed7953"
             ],
             [
              0.7777777777777778,
              "#fb9f3a"
             ],
             [
              0.8888888888888888,
              "#fdca26"
             ],
             [
              1,
              "#f0f921"
             ]
            ],
            "type": "heatmapgl"
           }
          ],
          "histogram": [
           {
            "marker": {
             "colorbar": {
              "outlinewidth": 0,
              "ticks": ""
             }
            },
            "type": "histogram"
           }
          ],
          "histogram2d": [
           {
            "colorbar": {
             "outlinewidth": 0,
             "ticks": ""
            },
            "colorscale": [
             [
              0,
              "#0d0887"
             ],
             [
              0.1111111111111111,
              "#46039f"
             ],
             [
              0.2222222222222222,
              "#7201a8"
             ],
             [
              0.3333333333333333,
              "#9c179e"
             ],
             [
              0.4444444444444444,
              "#bd3786"
             ],
             [
              0.5555555555555556,
              "#d8576b"
             ],
             [
              0.6666666666666666,
              "#ed7953"
             ],
             [
              0.7777777777777778,
              "#fb9f3a"
             ],
             [
              0.8888888888888888,
              "#fdca26"
             ],
             [
              1,
              "#f0f921"
             ]
            ],
            "type": "histogram2d"
           }
          ],
          "histogram2dcontour": [
           {
            "colorbar": {
             "outlinewidth": 0,
             "ticks": ""
            },
            "colorscale": [
             [
              0,
              "#0d0887"
             ],
             [
              0.1111111111111111,
              "#46039f"
             ],
             [
              0.2222222222222222,
              "#7201a8"
             ],
             [
              0.3333333333333333,
              "#9c179e"
             ],
             [
              0.4444444444444444,
              "#bd3786"
             ],
             [
              0.5555555555555556,
              "#d8576b"
             ],
             [
              0.6666666666666666,
              "#ed7953"
             ],
             [
              0.7777777777777778,
              "#fb9f3a"
             ],
             [
              0.8888888888888888,
              "#fdca26"
             ],
             [
              1,
              "#f0f921"
             ]
            ],
            "type": "histogram2dcontour"
           }
          ],
          "mesh3d": [
           {
            "colorbar": {
             "outlinewidth": 0,
             "ticks": ""
            },
            "type": "mesh3d"
           }
          ],
          "parcoords": [
           {
            "line": {
             "colorbar": {
              "outlinewidth": 0,
              "ticks": ""
             }
            },
            "type": "parcoords"
           }
          ],
          "pie": [
           {
            "automargin": true,
            "type": "pie"
           }
          ],
          "scatter": [
           {
            "marker": {
             "colorbar": {
              "outlinewidth": 0,
              "ticks": ""
             }
            },
            "type": "scatter"
           }
          ],
          "scatter3d": [
           {
            "line": {
             "colorbar": {
              "outlinewidth": 0,
              "ticks": ""
             }
            },
            "marker": {
             "colorbar": {
              "outlinewidth": 0,
              "ticks": ""
             }
            },
            "type": "scatter3d"
           }
          ],
          "scattercarpet": [
           {
            "marker": {
             "colorbar": {
              "outlinewidth": 0,
              "ticks": ""
             }
            },
            "type": "scattercarpet"
           }
          ],
          "scattergeo": [
           {
            "marker": {
             "colorbar": {
              "outlinewidth": 0,
              "ticks": ""
             }
            },
            "type": "scattergeo"
           }
          ],
          "scattergl": [
           {
            "marker": {
             "colorbar": {
              "outlinewidth": 0,
              "ticks": ""
             }
            },
            "type": "scattergl"
           }
          ],
          "scattermapbox": [
           {
            "marker": {
             "colorbar": {
              "outlinewidth": 0,
              "ticks": ""
             }
            },
            "type": "scattermapbox"
           }
          ],
          "scatterpolar": [
           {
            "marker": {
             "colorbar": {
              "outlinewidth": 0,
              "ticks": ""
             }
            },
            "type": "scatterpolar"
           }
          ],
          "scatterpolargl": [
           {
            "marker": {
             "colorbar": {
              "outlinewidth": 0,
              "ticks": ""
             }
            },
            "type": "scatterpolargl"
           }
          ],
          "scatterternary": [
           {
            "marker": {
             "colorbar": {
              "outlinewidth": 0,
              "ticks": ""
             }
            },
            "type": "scatterternary"
           }
          ],
          "surface": [
           {
            "colorbar": {
             "outlinewidth": 0,
             "ticks": ""
            },
            "colorscale": [
             [
              0,
              "#0d0887"
             ],
             [
              0.1111111111111111,
              "#46039f"
             ],
             [
              0.2222222222222222,
              "#7201a8"
             ],
             [
              0.3333333333333333,
              "#9c179e"
             ],
             [
              0.4444444444444444,
              "#bd3786"
             ],
             [
              0.5555555555555556,
              "#d8576b"
             ],
             [
              0.6666666666666666,
              "#ed7953"
             ],
             [
              0.7777777777777778,
              "#fb9f3a"
             ],
             [
              0.8888888888888888,
              "#fdca26"
             ],
             [
              1,
              "#f0f921"
             ]
            ],
            "type": "surface"
           }
          ],
          "table": [
           {
            "cells": {
             "fill": {
              "color": "#EBF0F8"
             },
             "line": {
              "color": "white"
             }
            },
            "header": {
             "fill": {
              "color": "#C8D4E3"
             },
             "line": {
              "color": "white"
             }
            },
            "type": "table"
           }
          ]
         },
         "layout": {
          "annotationdefaults": {
           "arrowcolor": "#2a3f5f",
           "arrowhead": 0,
           "arrowwidth": 1
          },
          "coloraxis": {
           "colorbar": {
            "outlinewidth": 0,
            "ticks": ""
           }
          },
          "colorscale": {
           "diverging": [
            [
             0,
             "#8e0152"
            ],
            [
             0.1,
             "#c51b7d"
            ],
            [
             0.2,
             "#de77ae"
            ],
            [
             0.3,
             "#f1b6da"
            ],
            [
             0.4,
             "#fde0ef"
            ],
            [
             0.5,
             "#f7f7f7"
            ],
            [
             0.6,
             "#e6f5d0"
            ],
            [
             0.7,
             "#b8e186"
            ],
            [
             0.8,
             "#7fbc41"
            ],
            [
             0.9,
             "#4d9221"
            ],
            [
             1,
             "#276419"
            ]
           ],
           "sequential": [
            [
             0,
             "#0d0887"
            ],
            [
             0.1111111111111111,
             "#46039f"
            ],
            [
             0.2222222222222222,
             "#7201a8"
            ],
            [
             0.3333333333333333,
             "#9c179e"
            ],
            [
             0.4444444444444444,
             "#bd3786"
            ],
            [
             0.5555555555555556,
             "#d8576b"
            ],
            [
             0.6666666666666666,
             "#ed7953"
            ],
            [
             0.7777777777777778,
             "#fb9f3a"
            ],
            [
             0.8888888888888888,
             "#fdca26"
            ],
            [
             1,
             "#f0f921"
            ]
           ],
           "sequentialminus": [
            [
             0,
             "#0d0887"
            ],
            [
             0.1111111111111111,
             "#46039f"
            ],
            [
             0.2222222222222222,
             "#7201a8"
            ],
            [
             0.3333333333333333,
             "#9c179e"
            ],
            [
             0.4444444444444444,
             "#bd3786"
            ],
            [
             0.5555555555555556,
             "#d8576b"
            ],
            [
             0.6666666666666666,
             "#ed7953"
            ],
            [
             0.7777777777777778,
             "#fb9f3a"
            ],
            [
             0.8888888888888888,
             "#fdca26"
            ],
            [
             1,
             "#f0f921"
            ]
           ]
          },
          "colorway": [
           "#636efa",
           "#EF553B",
           "#00cc96",
           "#ab63fa",
           "#FFA15A",
           "#19d3f3",
           "#FF6692",
           "#B6E880",
           "#FF97FF",
           "#FECB52"
          ],
          "font": {
           "color": "#2a3f5f"
          },
          "geo": {
           "bgcolor": "white",
           "lakecolor": "white",
           "landcolor": "#E5ECF6",
           "showlakes": true,
           "showland": true,
           "subunitcolor": "white"
          },
          "hoverlabel": {
           "align": "left"
          },
          "hovermode": "closest",
          "mapbox": {
           "style": "light"
          },
          "paper_bgcolor": "white",
          "plot_bgcolor": "#E5ECF6",
          "polar": {
           "angularaxis": {
            "gridcolor": "white",
            "linecolor": "white",
            "ticks": ""
           },
           "bgcolor": "#E5ECF6",
           "radialaxis": {
            "gridcolor": "white",
            "linecolor": "white",
            "ticks": ""
           }
          },
          "scene": {
           "xaxis": {
            "backgroundcolor": "#E5ECF6",
            "gridcolor": "white",
            "gridwidth": 2,
            "linecolor": "white",
            "showbackground": true,
            "ticks": "",
            "zerolinecolor": "white"
           },
           "yaxis": {
            "backgroundcolor": "#E5ECF6",
            "gridcolor": "white",
            "gridwidth": 2,
            "linecolor": "white",
            "showbackground": true,
            "ticks": "",
            "zerolinecolor": "white"
           },
           "zaxis": {
            "backgroundcolor": "#E5ECF6",
            "gridcolor": "white",
            "gridwidth": 2,
            "linecolor": "white",
            "showbackground": true,
            "ticks": "",
            "zerolinecolor": "white"
           }
          },
          "shapedefaults": {
           "line": {
            "color": "#2a3f5f"
           }
          },
          "ternary": {
           "aaxis": {
            "gridcolor": "white",
            "linecolor": "white",
            "ticks": ""
           },
           "baxis": {
            "gridcolor": "white",
            "linecolor": "white",
            "ticks": ""
           },
           "bgcolor": "#E5ECF6",
           "caxis": {
            "gridcolor": "white",
            "linecolor": "white",
            "ticks": ""
           }
          },
          "title": {
           "x": 0.05
          },
          "xaxis": {
           "automargin": true,
           "gridcolor": "white",
           "linecolor": "white",
           "ticks": "",
           "title": {
            "standoff": 15
           },
           "zerolinecolor": "white",
           "zerolinewidth": 2
          },
          "yaxis": {
           "automargin": true,
           "gridcolor": "white",
           "linecolor": "white",
           "ticks": "",
           "title": {
            "standoff": 15
           },
           "zerolinecolor": "white",
           "zerolinewidth": 2
          }
         }
        }
       }
      }
     },
     "metadata": {}
    }
   ],
   "source": [
    "import plotly.express as px\n",
    "px.set_mapbox_access_token(open(\".mapbox_token\").read())\n",
    "fig = px.scatter_mapbox(data_frame = black_killings, lat='y', lon='x', opacity=0.5, hover_name=\"full_name\", hover_data=[\"year\",\"neighborhood\",\"cause\"], zoom=8.5)\n",
    "fig.update_layout(margin={\"r\":0,\"t\":0,\"l\":0,\"b\":0}, \n",
    "        hoverlabel=dict(\n",
    "        bgcolor=\"white\", \n",
    "        font_size=16, \n",
    "        font_family=\"Inter\")\n",
    ")\n",
    "fig.show()"
   ]
  },
  {
   "cell_type": "markdown",
   "metadata": {},
   "source": [
    "# Importing to `chart_studio`"
   ]
  },
  {
   "cell_type": "code",
   "execution_count": 28,
   "metadata": {},
   "outputs": [],
   "source": [
    "import chart_studio\n",
    "username = 'isabella-b' # your username\n",
    "api_key = '5A3ZSEfsKX8vX3HYVnmN' # your api key - go to profile > settings > regenerate key\n",
    "chart_studio.tools.set_credentials_file(username=username, api_key=api_key)"
   ]
  },
  {
   "cell_type": "code",
   "execution_count": 36,
   "metadata": {},
   "outputs": [
    {
     "output_type": "execute_result",
     "data": {
      "text/plain": "'https://plotly.com/~isabella-b/1/'"
     },
     "metadata": {},
     "execution_count": 36
    }
   ],
   "source": [
    "import chart_studio.plotly as py\n",
    "py.plot(fig, filename = 'LA-police-black-killings', auto_open=True)"
   ]
  }
 ],
 "metadata": {
  "language_info": {
   "codemirror_mode": {
    "name": "ipython",
    "version": 3
   },
   "file_extension": ".py",
   "mimetype": "text/x-python",
   "name": "python",
   "nbconvert_exporter": "python",
   "pygments_lexer": "ipython3",
   "version": "3.7.7-final"
  },
  "orig_nbformat": 2,
  "kernelspec": {
   "name": "python3",
   "display_name": "Python 3"
  }
 },
 "nbformat": 4,
 "nbformat_minor": 2
}